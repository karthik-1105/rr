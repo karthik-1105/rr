{
  "nbformat": 4,
  "nbformat_minor": 0,
  "metadata": {
    "colab": {
      "name": "LSTM_new.ipynb",
      "provenance": [],
      "collapsed_sections": []
    },
    "kernelspec": {
      "name": "python3",
      "display_name": "Python 3"
    }
  },
  "cells": [
    {
      "cell_type": "code",
      "metadata": {
        "id": "Sht4bA-oOvne",
        "colab_type": "code",
        "colab": {
          "base_uri": "https://localhost:8080/",
          "height": 1000
        },
        "outputId": "8be259e2-c749-4904-bbf4-3368bb672500"
      },
      "source": [
        "!pip install tensor flow\n",
        "!pip install keras"
      ],
      "execution_count": null,
      "outputs": [
        {
          "output_type": "stream",
          "text": [
            "Collecting tensor\n",
            "\u001b[?25l  Downloading https://files.pythonhosted.org/packages/ed/87/796821bf9579557a5baac1c01c42bd56e3be47bdaf131779ccdd953f1c80/tensor-0.3.6.tar.gz (50kB)\n",
            "\r\u001b[K     |██████▌                         | 10kB 15.8MB/s eta 0:00:01\r\u001b[K     |█████████████                   | 20kB 1.7MB/s eta 0:00:01\r\u001b[K     |███████████████████▋            | 30kB 2.3MB/s eta 0:00:01\r\u001b[K     |██████████████████████████      | 40kB 2.6MB/s eta 0:00:01\r\u001b[K     |████████████████████████████████| 51kB 1.6MB/s \n",
            "\u001b[?25hCollecting flow\n",
            "  Downloading https://files.pythonhosted.org/packages/10/9d/b18ec331c5c304b23e1d2c3833f524925870a4ed82fd4b9bade8db47510e/flow-0.0.1.tar.gz\n",
            "Collecting Twisted\n",
            "\u001b[?25l  Downloading https://files.pythonhosted.org/packages/b7/04/1a664c9e5ec0224a1c1a154ddecaa4dc7b8967521bba225efcc41a03d5f3/Twisted-20.3.0-cp36-cp36m-manylinux1_x86_64.whl (3.1MB)\n",
            "\u001b[K     |████████████████████████████████| 3.1MB 6.7MB/s \n",
            "\u001b[?25hRequirement already satisfied: PyYaml in /usr/local/lib/python3.6/dist-packages (from tensor) (3.13)\n",
            "Requirement already satisfied: protobuf in /usr/local/lib/python3.6/dist-packages (from tensor) (3.12.4)\n",
            "Collecting construct\n",
            "\u001b[?25l  Downloading https://files.pythonhosted.org/packages/00/e0/71e41b817220333c7c511c3f78d988d69f9b03b5cca2f251a898ad3567a3/construct-2.10.56.tar.gz (54kB)\n",
            "\u001b[K     |████████████████████████████████| 61kB 7.2MB/s \n",
            "\u001b[?25hCollecting pysnmp\n",
            "\u001b[?25l  Downloading https://files.pythonhosted.org/packages/25/7e/1e17facea54dd21c6a72db6ae57a5bfdd56edd54b8c4850668b554bdddba/pysnmp-4.4.12-py2.py3-none-any.whl (296kB)\n",
            "\u001b[K     |████████████████████████████████| 296kB 32.9MB/s \n",
            "\u001b[?25hCollecting PyHamcrest!=1.10.0,>=1.9.0\n",
            "\u001b[?25l  Downloading https://files.pythonhosted.org/packages/40/16/e54cc65891f01cb62893540f44ffd3e8dab0a22443e1b438f1a9f5574bee/PyHamcrest-2.0.2-py3-none-any.whl (52kB)\n",
            "\u001b[K     |████████████████████████████████| 61kB 6.2MB/s \n",
            "\u001b[?25hCollecting constantly>=15.1\n",
            "  Downloading https://files.pythonhosted.org/packages/b9/65/48c1909d0c0aeae6c10213340ce682db01b48ea900a7d9fce7a7910ff318/constantly-15.1.0-py2.py3-none-any.whl\n",
            "Collecting Automat>=0.3.0\n",
            "  Downloading https://files.pythonhosted.org/packages/dd/83/5f6f3c1a562674d65efc320257bdc0873ec53147835aeef7762fe7585273/Automat-20.2.0-py2.py3-none-any.whl\n",
            "Collecting zope.interface>=4.4.2\n",
            "\u001b[?25l  Downloading https://files.pythonhosted.org/packages/57/33/565274c28a11af60b7cfc0519d46bde4125fcd7d32ebc0a81b480d0e8da6/zope.interface-5.1.0-cp36-cp36m-manylinux2010_x86_64.whl (234kB)\n",
            "\u001b[K     |████████████████████████████████| 235kB 32.3MB/s \n",
            "\u001b[?25hCollecting hyperlink>=17.1.1\n",
            "\u001b[?25l  Downloading https://files.pythonhosted.org/packages/88/a5/74f77547e9b175eb894d4fec5c76b0c8176c045e5bf3ac6a4d4d3feab4bb/hyperlink-20.0.1-py2.py3-none-any.whl (48kB)\n",
            "\u001b[K     |████████████████████████████████| 51kB 5.8MB/s \n",
            "\u001b[?25hCollecting incremental>=16.10.1\n",
            "  Downloading https://files.pythonhosted.org/packages/f5/1d/c98a587dc06e107115cf4a58b49de20b19222c83d75335a192052af4c4b7/incremental-17.5.0-py2.py3-none-any.whl\n",
            "Requirement already satisfied: attrs>=19.2.0 in /usr/local/lib/python3.6/dist-packages (from Twisted->tensor) (19.3.0)\n",
            "Requirement already satisfied: six>=1.9 in /usr/local/lib/python3.6/dist-packages (from protobuf->tensor) (1.15.0)\n",
            "Requirement already satisfied: setuptools in /usr/local/lib/python3.6/dist-packages (from protobuf->tensor) (49.2.0)\n",
            "Requirement already satisfied: pyasn1>=0.2.3 in /usr/local/lib/python3.6/dist-packages (from pysnmp->tensor) (0.4.8)\n",
            "Collecting pysmi\n",
            "\u001b[?25l  Downloading https://files.pythonhosted.org/packages/1f/fc/02361d1c2b247de73070c457c4da98c448693154894c14f2d7b48dfabf7e/pysmi-0.3.4-py2.py3-none-any.whl (80kB)\n",
            "\u001b[K     |████████████████████████████████| 81kB 8.3MB/s \n",
            "\u001b[?25hCollecting pycryptodomex\n",
            "\u001b[?25l  Downloading https://files.pythonhosted.org/packages/e1/47/d3ead950b09799b4c8816f6c62fbe09991932baadb1a7c372ed8ef0e8fbe/pycryptodomex-3.9.8-cp36-cp36m-manylinux1_x86_64.whl (13.7MB)\n",
            "\u001b[K     |████████████████████████████████| 13.7MB 295kB/s \n",
            "\u001b[?25hRequirement already satisfied: idna>=2.5 in /usr/local/lib/python3.6/dist-packages (from hyperlink>=17.1.1->Twisted->tensor) (2.10)\n",
            "Collecting ply\n",
            "\u001b[?25l  Downloading https://files.pythonhosted.org/packages/a3/58/35da89ee790598a0700ea49b2a66594140f44dec458c07e8e3d4979137fc/ply-3.11-py2.py3-none-any.whl (49kB)\n",
            "\u001b[K     |████████████████████████████████| 51kB 5.9MB/s \n",
            "\u001b[?25hBuilding wheels for collected packages: tensor, flow, construct\n",
            "  Building wheel for tensor (setup.py) ... \u001b[?25l\u001b[?25hdone\n",
            "  Created wheel for tensor: filename=tensor-0.3.6-cp36-none-any.whl size=71570 sha256=4e163ada30077b92d4e8fe6d4f441227066541e7312cef4384a90e7acda103d2\n",
            "  Stored in directory: /root/.cache/pip/wheels/32/ba/ac/dbd210e9db9e5d549b3d98c57713684c5768298f259b1925ef\n",
            "  Building wheel for flow (setup.py) ... \u001b[?25l\u001b[?25hdone\n",
            "  Created wheel for flow: filename=flow-0.0.1-cp36-none-any.whl size=7851 sha256=615a6a71eb4755761c1545b3c879cbb53f1a34bc7fb810a853af25580c9c15d8\n",
            "  Stored in directory: /root/.cache/pip/wheels/15/01/cd/eabe82f170ece45154884012dbd2cfb799935e436ad319a547\n",
            "  Building wheel for construct (setup.py) ... \u001b[?25l\u001b[?25hdone\n",
            "  Created wheel for construct: filename=construct-2.10.56-cp36-none-any.whl size=56878 sha256=18d5c9af6883fe1d5eae9cd701e51de7731426631248959aa29dae2ec6fc8898\n",
            "  Stored in directory: /root/.cache/pip/wheels/28/7b/bb/5af0216178450142d64876ad635c9e64cb8ac48a584c419214\n",
            "Successfully built tensor flow construct\n",
            "Installing collected packages: PyHamcrest, constantly, Automat, zope.interface, hyperlink, incremental, Twisted, construct, ply, pysmi, pycryptodomex, pysnmp, tensor, flow\n",
            "Successfully installed Automat-20.2.0 PyHamcrest-2.0.2 Twisted-20.3.0 constantly-15.1.0 construct-2.10.56 flow-0.0.1 hyperlink-20.0.1 incremental-17.5.0 ply-3.11 pycryptodomex-3.9.8 pysmi-0.3.4 pysnmp-4.4.12 tensor-0.3.6 zope.interface-5.1.0\n",
            "Requirement already satisfied: keras in /usr/local/lib/python3.6/dist-packages (2.4.3)\n",
            "Requirement already satisfied: pyyaml in /usr/local/lib/python3.6/dist-packages (from keras) (3.13)\n",
            "Requirement already satisfied: numpy>=1.9.1 in /usr/local/lib/python3.6/dist-packages (from keras) (1.18.5)\n",
            "Requirement already satisfied: h5py in /usr/local/lib/python3.6/dist-packages (from keras) (2.10.0)\n",
            "Requirement already satisfied: scipy>=0.14 in /usr/local/lib/python3.6/dist-packages (from keras) (1.4.1)\n",
            "Requirement already satisfied: six in /usr/local/lib/python3.6/dist-packages (from h5py->keras) (1.15.0)\n"
          ],
          "name": "stdout"
        }
      ]
    },
    {
      "cell_type": "code",
      "metadata": {
        "id": "2a1CDbX7W7Ub",
        "colab_type": "code",
        "colab": {}
      },
      "source": [
        ""
      ],
      "execution_count": null,
      "outputs": []
    },
    {
      "cell_type": "markdown",
      "metadata": {
        "id": "Omp7gQCNPEqN",
        "colab_type": "text"
      },
      "source": [
        "**RAW DATA**"
      ]
    },
    {
      "cell_type": "code",
      "metadata": {
        "id": "KQhSH7g4f9V3",
        "colab_type": "code",
        "colab": {}
      },
      "source": [
        "import math\n",
        "import pandas_datareader as web\n",
        "import numpy as np\n",
        "import pandas as pd\n",
        "from sklearn.preprocessing import MinMaxScaler\n",
        "from keras.models import Sequential\n",
        "from keras.layers import Dense,LSTM,Dropout\n",
        "import matplotlib.pyplot as plt\n",
        "import datetime as dt\n",
        "plt.style.use('fivethirtyeight')\n",
        "\n",
        "\n"
      ],
      "execution_count": null,
      "outputs": []
    },
    {
      "cell_type": "code",
      "metadata": {
        "id": "0OfdwXJmgvk1",
        "colab_type": "code",
        "colab": {}
      },
      "source": [
        "start = dt.datetime(2012,1,30)\n",
        "end = dt.datetime(2020,8,2)"
      ],
      "execution_count": null,
      "outputs": []
    },
    {
      "cell_type": "code",
      "metadata": {
        "id": "FL-rx8NsPo7g",
        "colab_type": "code",
        "colab": {
          "base_uri": "https://localhost:8080/",
          "height": 450
        },
        "outputId": "5b17fb36-523a-45f6-a132-d250d77d8c21"
      },
      "source": [
        "df=web.DataReader('INFY.NS',data_source='yahoo',start=start,end=end)\n",
        "df\n",
        "\n"
      ],
      "execution_count": null,
      "outputs": [
        {
          "output_type": "execute_result",
          "data": {
            "text/html": [
              "<div>\n",
              "<style scoped>\n",
              "    .dataframe tbody tr th:only-of-type {\n",
              "        vertical-align: middle;\n",
              "    }\n",
              "\n",
              "    .dataframe tbody tr th {\n",
              "        vertical-align: top;\n",
              "    }\n",
              "\n",
              "    .dataframe thead th {\n",
              "        text-align: right;\n",
              "    }\n",
              "</style>\n",
              "<table border=\"1\" class=\"dataframe\">\n",
              "  <thead>\n",
              "    <tr style=\"text-align: right;\">\n",
              "      <th></th>\n",
              "      <th>High</th>\n",
              "      <th>Low</th>\n",
              "      <th>Open</th>\n",
              "      <th>Close</th>\n",
              "      <th>Volume</th>\n",
              "      <th>Adj Close</th>\n",
              "    </tr>\n",
              "    <tr>\n",
              "      <th>Date</th>\n",
              "      <th></th>\n",
              "      <th></th>\n",
              "      <th></th>\n",
              "      <th></th>\n",
              "      <th></th>\n",
              "      <th></th>\n",
              "    </tr>\n",
              "  </thead>\n",
              "  <tbody>\n",
              "    <tr>\n",
              "      <th>2012-01-30</th>\n",
              "      <td>340.649994</td>\n",
              "      <td>336.250000</td>\n",
              "      <td>337.362000</td>\n",
              "      <td>339.037994</td>\n",
              "      <td>9588456.0</td>\n",
              "      <td>163.944412</td>\n",
              "    </tr>\n",
              "    <tr>\n",
              "      <th>2012-01-31</th>\n",
              "      <td>344.330994</td>\n",
              "      <td>338.250000</td>\n",
              "      <td>339.000000</td>\n",
              "      <td>343.250000</td>\n",
              "      <td>8658896.0</td>\n",
              "      <td>165.981171</td>\n",
              "    </tr>\n",
              "    <tr>\n",
              "      <th>2012-02-01</th>\n",
              "      <td>343.500000</td>\n",
              "      <td>336.955994</td>\n",
              "      <td>342.462006</td>\n",
              "      <td>342.837006</td>\n",
              "      <td>6269336.0</td>\n",
              "      <td>165.781448</td>\n",
              "    </tr>\n",
              "    <tr>\n",
              "      <th>2012-02-02</th>\n",
              "      <td>347.875000</td>\n",
              "      <td>341.250000</td>\n",
              "      <td>342.513000</td>\n",
              "      <td>344.625000</td>\n",
              "      <td>11538256.0</td>\n",
              "      <td>166.646057</td>\n",
              "    </tr>\n",
              "    <tr>\n",
              "      <th>2012-02-03</th>\n",
              "      <td>349.000000</td>\n",
              "      <td>342.506012</td>\n",
              "      <td>342.506012</td>\n",
              "      <td>347.906006</td>\n",
              "      <td>11637200.0</td>\n",
              "      <td>168.232590</td>\n",
              "    </tr>\n",
              "    <tr>\n",
              "      <th>...</th>\n",
              "      <td>...</td>\n",
              "      <td>...</td>\n",
              "      <td>...</td>\n",
              "      <td>...</td>\n",
              "      <td>...</td>\n",
              "      <td>...</td>\n",
              "    </tr>\n",
              "    <tr>\n",
              "      <th>2020-07-28</th>\n",
              "      <td>967.549988</td>\n",
              "      <td>941.200012</td>\n",
              "      <td>946.000000</td>\n",
              "      <td>962.849976</td>\n",
              "      <td>15818463.0</td>\n",
              "      <td>962.849976</td>\n",
              "    </tr>\n",
              "    <tr>\n",
              "      <th>2020-07-29</th>\n",
              "      <td>960.000000</td>\n",
              "      <td>943.599976</td>\n",
              "      <td>953.250000</td>\n",
              "      <td>954.150024</td>\n",
              "      <td>11152710.0</td>\n",
              "      <td>954.150024</td>\n",
              "    </tr>\n",
              "    <tr>\n",
              "      <th>2020-07-30</th>\n",
              "      <td>972.650024</td>\n",
              "      <td>958.750000</td>\n",
              "      <td>962.000000</td>\n",
              "      <td>961.450012</td>\n",
              "      <td>12492320.0</td>\n",
              "      <td>961.450012</td>\n",
              "    </tr>\n",
              "    <tr>\n",
              "      <th>2020-07-31</th>\n",
              "      <td>986.450012</td>\n",
              "      <td>953.299988</td>\n",
              "      <td>969.250000</td>\n",
              "      <td>966.000000</td>\n",
              "      <td>12704346.0</td>\n",
              "      <td>966.000000</td>\n",
              "    </tr>\n",
              "    <tr>\n",
              "      <th>2020-08-03</th>\n",
              "      <td>965.400024</td>\n",
              "      <td>947.450012</td>\n",
              "      <td>960.000000</td>\n",
              "      <td>956.900024</td>\n",
              "      <td>8479792.0</td>\n",
              "      <td>956.900024</td>\n",
              "    </tr>\n",
              "  </tbody>\n",
              "</table>\n",
              "<p>2092 rows × 6 columns</p>\n",
              "</div>"
            ],
            "text/plain": [
              "                  High         Low  ...      Volume   Adj Close\n",
              "Date                                ...                        \n",
              "2012-01-30  340.649994  336.250000  ...   9588456.0  163.944412\n",
              "2012-01-31  344.330994  338.250000  ...   8658896.0  165.981171\n",
              "2012-02-01  343.500000  336.955994  ...   6269336.0  165.781448\n",
              "2012-02-02  347.875000  341.250000  ...  11538256.0  166.646057\n",
              "2012-02-03  349.000000  342.506012  ...  11637200.0  168.232590\n",
              "...                ...         ...  ...         ...         ...\n",
              "2020-07-28  967.549988  941.200012  ...  15818463.0  962.849976\n",
              "2020-07-29  960.000000  943.599976  ...  11152710.0  954.150024\n",
              "2020-07-30  972.650024  958.750000  ...  12492320.0  961.450012\n",
              "2020-07-31  986.450012  953.299988  ...  12704346.0  966.000000\n",
              "2020-08-03  965.400024  947.450012  ...   8479792.0  956.900024\n",
              "\n",
              "[2092 rows x 6 columns]"
            ]
          },
          "metadata": {
            "tags": []
          },
          "execution_count": 84
        }
      ]
    },
    {
      "cell_type": "code",
      "metadata": {
        "id": "FhyH6AvhP0GR",
        "colab_type": "code",
        "colab": {
          "base_uri": "https://localhost:8080/",
          "height": 136
        },
        "outputId": "b7732620-95d7-43e0-ae9a-6d0ec8ffd7d8"
      },
      "source": [
        "df.isna().any()"
      ],
      "execution_count": null,
      "outputs": [
        {
          "output_type": "execute_result",
          "data": {
            "text/plain": [
              "High         False\n",
              "Low          False\n",
              "Open         False\n",
              "Close        False\n",
              "Volume       False\n",
              "Adj Close    False\n",
              "dtype: bool"
            ]
          },
          "metadata": {
            "tags": []
          },
          "execution_count": 85
        }
      ]
    },
    {
      "cell_type": "code",
      "metadata": {
        "id": "2JWwdEVUP58l",
        "colab_type": "code",
        "colab": {
          "base_uri": "https://localhost:8080/",
          "height": 238
        },
        "outputId": "2a1c749e-f10d-4bfa-da65-8b33ea4361f8"
      },
      "source": [
        "df.info()"
      ],
      "execution_count": null,
      "outputs": [
        {
          "output_type": "stream",
          "text": [
            "<class 'pandas.core.frame.DataFrame'>\n",
            "DatetimeIndex: 2092 entries, 2012-01-30 to 2020-08-03\n",
            "Data columns (total 6 columns):\n",
            " #   Column     Non-Null Count  Dtype  \n",
            "---  ------     --------------  -----  \n",
            " 0   High       2092 non-null   float64\n",
            " 1   Low        2092 non-null   float64\n",
            " 2   Open       2092 non-null   float64\n",
            " 3   Close      2092 non-null   float64\n",
            " 4   Volume     2092 non-null   float64\n",
            " 5   Adj Close  2092 non-null   float64\n",
            "dtypes: float64(6)\n",
            "memory usage: 114.4 KB\n"
          ],
          "name": "stdout"
        }
      ]
    },
    {
      "cell_type": "code",
      "metadata": {
        "id": "hZdHZqhEP9JO",
        "colab_type": "code",
        "colab": {
          "base_uri": "https://localhost:8080/",
          "height": 402
        },
        "outputId": "3dfef342-56c6-46e2-b4a7-8cecf330c771"
      },
      "source": [
        "df['Close'].plot(figsize=(16,6))"
      ],
      "execution_count": null,
      "outputs": [
        {
          "output_type": "execute_result",
          "data": {
            "text/plain": [
              "<matplotlib.axes._subplots.AxesSubplot at 0x7f46ea4ffe48>"
            ]
          },
          "metadata": {
            "tags": []
          },
          "execution_count": 87
        },
        {
          "output_type": "display_data",
          "data": {
            "image/png": "[encoded data removed]",
            "text/plain": [
              "<Figure size 1152x432 with 1 Axes>"
            ]
          },
          "metadata": {
            "tags": []
          }
        }
      ]
    },
    {
      "cell_type": "markdown",
      "metadata": {
        "id": "XLWAHYVSQQhg",
        "colab_type": "text"
      },
      "source": [
        "**7 DAY ROLLING MEAn**"
      ]
    },
    {
      "cell_type": "code",
      "metadata": {
        "id": "_XqFtH86QGde",
        "colab_type": "code",
        "colab": {
          "base_uri": "https://localhost:8080/",
          "height": 700
        },
        "outputId": "15c3813f-f979-4749-b12f-bd85057a1c65"
      },
      "source": [
        "df.rolling(7).mean().head(20)"
      ],
      "execution_count": null,
      "outputs": [
        {
          "output_type": "execute_result",
          "data": {
            "text/html": [
              "<div>\n",
              "<style scoped>\n",
              "    .dataframe tbody tr th:only-of-type {\n",
              "        vertical-align: middle;\n",
              "    }\n",
              "\n",
              "    .dataframe tbody tr th {\n",
              "        vertical-align: top;\n",
              "    }\n",
              "\n",
              "    .dataframe thead th {\n",
              "        text-align: right;\n",
              "    }\n",
              "</style>\n",
              "<table border=\"1\" class=\"dataframe\">\n",
              "  <thead>\n",
              "    <tr style=\"text-align: right;\">\n",
              "      <th></th>\n",
              "      <th>High</th>\n",
              "      <th>Low</th>\n",
              "      <th>Open</th>\n",
              "      <th>Close</th>\n",
              "      <th>Volume</th>\n",
              "      <th>Adj Close</th>\n",
              "    </tr>\n",
              "    <tr>\n",
              "      <th>Date</th>\n",
              "      <th></th>\n",
              "      <th></th>\n",
              "      <th></th>\n",
              "      <th></th>\n",
              "      <th></th>\n",
              "      <th></th>\n",
              "    </tr>\n",
              "  </thead>\n",
              "  <tbody>\n",
              "    <tr>\n",
              "      <th>2012-01-30</th>\n",
              "      <td>NaN</td>\n",
              "      <td>NaN</td>\n",
              "      <td>NaN</td>\n",
              "      <td>NaN</td>\n",
              "      <td>NaN</td>\n",
              "      <td>NaN</td>\n",
              "    </tr>\n",
              "    <tr>\n",
              "      <th>2012-01-31</th>\n",
              "      <td>NaN</td>\n",
              "      <td>NaN</td>\n",
              "      <td>NaN</td>\n",
              "      <td>NaN</td>\n",
              "      <td>NaN</td>\n",
              "      <td>NaN</td>\n",
              "    </tr>\n",
              "    <tr>\n",
              "      <th>2012-02-01</th>\n",
              "      <td>NaN</td>\n",
              "      <td>NaN</td>\n",
              "      <td>NaN</td>\n",
              "      <td>NaN</td>\n",
              "      <td>NaN</td>\n",
              "      <td>NaN</td>\n",
              "    </tr>\n",
              "    <tr>\n",
              "      <th>2012-02-02</th>\n",
              "      <td>NaN</td>\n",
              "      <td>NaN</td>\n",
              "      <td>NaN</td>\n",
              "      <td>NaN</td>\n",
              "      <td>NaN</td>\n",
              "      <td>NaN</td>\n",
              "    </tr>\n",
              "    <tr>\n",
              "      <th>2012-02-03</th>\n",
              "      <td>NaN</td>\n",
              "      <td>NaN</td>\n",
              "      <td>NaN</td>\n",
              "      <td>NaN</td>\n",
              "      <td>NaN</td>\n",
              "      <td>NaN</td>\n",
              "    </tr>\n",
              "    <tr>\n",
              "      <th>2012-02-06</th>\n",
              "      <td>NaN</td>\n",
              "      <td>NaN</td>\n",
              "      <td>NaN</td>\n",
              "      <td>NaN</td>\n",
              "      <td>NaN</td>\n",
              "      <td>NaN</td>\n",
              "    </tr>\n",
              "    <tr>\n",
              "      <th>2012-02-07</th>\n",
              "      <td>346.709712</td>\n",
              "      <td>339.775857</td>\n",
              "      <td>343.586574</td>\n",
              "      <td>343.675999</td>\n",
              "      <td>8.978781e+06</td>\n",
              "      <td>166.187140</td>\n",
              "    </tr>\n",
              "    <tr>\n",
              "      <th>2012-02-08</th>\n",
              "      <td>347.723999</td>\n",
              "      <td>340.692858</td>\n",
              "      <td>344.463431</td>\n",
              "      <td>344.691145</td>\n",
              "      <td>8.562072e+06</td>\n",
              "      <td>166.678020</td>\n",
              "    </tr>\n",
              "    <tr>\n",
              "      <th>2012-02-09</th>\n",
              "      <td>348.928571</td>\n",
              "      <td>341.154428</td>\n",
              "      <td>345.124146</td>\n",
              "      <td>345.832145</td>\n",
              "      <td>8.776064e+06</td>\n",
              "      <td>167.229754</td>\n",
              "    </tr>\n",
              "    <tr>\n",
              "      <th>2012-02-10</th>\n",
              "      <td>349.892857</td>\n",
              "      <td>342.145573</td>\n",
              "      <td>346.183145</td>\n",
              "      <td>346.683999</td>\n",
              "      <td>8.620104e+06</td>\n",
              "      <td>167.641676</td>\n",
              "    </tr>\n",
              "    <tr>\n",
              "      <th>2012-02-13</th>\n",
              "      <td>350.205287</td>\n",
              "      <td>342.629573</td>\n",
              "      <td>346.810717</td>\n",
              "      <td>347.244712</td>\n",
              "      <td>7.790926e+06</td>\n",
              "      <td>167.912809</td>\n",
              "    </tr>\n",
              "    <tr>\n",
              "      <th>2012-02-14</th>\n",
              "      <td>350.524859</td>\n",
              "      <td>343.057286</td>\n",
              "      <td>347.452715</td>\n",
              "      <td>347.562570</td>\n",
              "      <td>6.911007e+06</td>\n",
              "      <td>168.066515</td>\n",
              "    </tr>\n",
              "    <tr>\n",
              "      <th>2012-02-15</th>\n",
              "      <td>351.723145</td>\n",
              "      <td>344.180429</td>\n",
              "      <td>347.629429</td>\n",
              "      <td>349.116141</td>\n",
              "      <td>6.802528e+06</td>\n",
              "      <td>168.817764</td>\n",
              "    </tr>\n",
              "    <tr>\n",
              "      <th>2012-02-16</th>\n",
              "      <td>353.735574</td>\n",
              "      <td>346.803715</td>\n",
              "      <td>348.683001</td>\n",
              "      <td>352.356284</td>\n",
              "      <td>6.950373e+06</td>\n",
              "      <td>170.384569</td>\n",
              "    </tr>\n",
              "    <tr>\n",
              "      <th>2012-02-17</th>\n",
              "      <td>357.235574</td>\n",
              "      <td>349.639430</td>\n",
              "      <td>351.687430</td>\n",
              "      <td>355.546426</td>\n",
              "      <td>7.634056e+06</td>\n",
              "      <td>171.927187</td>\n",
              "    </tr>\n",
              "    <tr>\n",
              "      <th>2012-02-21</th>\n",
              "      <td>359.696145</td>\n",
              "      <td>352.843004</td>\n",
              "      <td>354.919573</td>\n",
              "      <td>357.838427</td>\n",
              "      <td>7.047254e+06</td>\n",
              "      <td>173.035507</td>\n",
              "    </tr>\n",
              "    <tr>\n",
              "      <th>2012-02-22</th>\n",
              "      <td>363.124717</td>\n",
              "      <td>355.593859</td>\n",
              "      <td>356.816001</td>\n",
              "      <td>360.728572</td>\n",
              "      <td>7.795183e+06</td>\n",
              "      <td>174.433064</td>\n",
              "    </tr>\n",
              "    <tr>\n",
              "      <th>2012-02-23</th>\n",
              "      <td>366.376574</td>\n",
              "      <td>358.434858</td>\n",
              "      <td>359.740143</td>\n",
              "      <td>363.313433</td>\n",
              "      <td>8.472462e+06</td>\n",
              "      <td>175.682992</td>\n",
              "    </tr>\n",
              "    <tr>\n",
              "      <th>2012-02-24</th>\n",
              "      <td>369.307002</td>\n",
              "      <td>361.283142</td>\n",
              "      <td>362.525857</td>\n",
              "      <td>365.938433</td>\n",
              "      <td>8.909415e+06</td>\n",
              "      <td>176.952332</td>\n",
              "    </tr>\n",
              "    <tr>\n",
              "      <th>2012-02-27</th>\n",
              "      <td>370.914145</td>\n",
              "      <td>362.300999</td>\n",
              "      <td>365.204429</td>\n",
              "      <td>366.282148</td>\n",
              "      <td>8.871163e+06</td>\n",
              "      <td>177.118532</td>\n",
              "    </tr>\n",
              "  </tbody>\n",
              "</table>\n",
              "</div>"
            ],
            "text/plain": [
              "                  High         Low  ...        Volume   Adj Close\n",
              "Date                                ...                          \n",
              "2012-01-30         NaN         NaN  ...           NaN         NaN\n",
              "2012-01-31         NaN         NaN  ...           NaN         NaN\n",
              "2012-02-01         NaN         NaN  ...           NaN         NaN\n",
              "2012-02-02         NaN         NaN  ...           NaN         NaN\n",
              "2012-02-03         NaN         NaN  ...           NaN         NaN\n",
              "2012-02-06         NaN         NaN  ...           NaN         NaN\n",
              "2012-02-07  346.709712  339.775857  ...  8.978781e+06  166.187140\n",
              "2012-02-08  347.723999  340.692858  ...  8.562072e+06  166.678020\n",
              "2012-02-09  348.928571  341.154428  ...  8.776064e+06  167.229754\n",
              "2012-02-10  349.892857  342.145573  ...  8.620104e+06  167.641676\n",
              "2012-02-13  350.205287  342.629573  ...  7.790926e+06  167.912809\n",
              "2012-02-14  350.524859  343.057286  ...  6.911007e+06  168.066515\n",
              "2012-02-15  351.723145  344.180429  ...  6.802528e+06  168.817764\n",
              "2012-02-16  353.735574  346.803715  ...  6.950373e+06  170.384569\n",
              "2012-02-17  357.235574  349.639430  ...  7.634056e+06  171.927187\n",
              "2012-02-21  359.696145  352.843004  ...  7.047254e+06  173.035507\n",
              "2012-02-22  363.124717  355.593859  ...  7.795183e+06  174.433064\n",
              "2012-02-23  366.376574  358.434858  ...  8.472462e+06  175.682992\n",
              "2012-02-24  369.307002  361.283142  ...  8.909415e+06  176.952332\n",
              "2012-02-27  370.914145  362.300999  ...  8.871163e+06  177.118532\n",
              "\n",
              "[20 rows x 6 columns]"
            ]
          },
          "metadata": {
            "tags": []
          },
          "execution_count": 88
        }
      ]
    },
    {
      "cell_type": "code",
      "metadata": {
        "id": "e1b8bKTVQbvq",
        "colab_type": "code",
        "colab": {
          "base_uri": "https://localhost:8080/",
          "height": 402
        },
        "outputId": "ef702c51-a9ea-440a-cd4e-1344164623a4"
      },
      "source": [
        "df['Close'].plot(figsize=(16,6))\n",
        "df.rolling(window=30).mean()['Close'].plot()"
      ],
      "execution_count": null,
      "outputs": [
        {
          "output_type": "execute_result",
          "data": {
            "text/plain": [
              "<matplotlib.axes._subplots.AxesSubplot at 0x7f46f615cba8>"
            ]
          },
          "metadata": {
            "tags": []
          },
          "execution_count": 89
        },
        {
          "output_type": "display_data",
          "data": {
            "image/png": "[encoded data removed]",
            "text/plain": [
              "<Figure size 1152x432 with 1 Axes>"
            ]
          },
          "metadata": {
            "tags": []
          }
        }
      ]
    },
    {
      "cell_type": "code",
      "metadata": {
        "id": "-zOOyt_9Qs30",
        "colab_type": "code",
        "colab": {
          "base_uri": "https://localhost:8080/",
          "height": 402
        },
        "outputId": "dd9e27ce-1581-4523-a4ff-7c6752efb976"
      },
      "source": [
        "df['Close: 30 day mean']=df['Close'].rolling(window=30).mean()\n",
        "df[['Close','Close: 30 day mean']].plot(figsize=(16,6))"
      ],
      "execution_count": null,
      "outputs": [
        {
          "output_type": "execute_result",
          "data": {
            "text/plain": [
              "<matplotlib.axes._subplots.AxesSubplot at 0x7f46ea42c710>"
            ]
          },
          "metadata": {
            "tags": []
          },
          "execution_count": 90
        },
        {
          "output_type": "display_data",
          "data": {
            "image/png": "[encoded data removed]",
            "text/plain": [
              "<Figure size 1152x432 with 1 Axes>"
            ]
          },
          "metadata": {
            "tags": []
          }
        }
      ]
    },
    {
      "cell_type": "markdown",
      "metadata": {
        "id": "0dIEGWJrRXxG",
        "colab_type": "text"
      },
      "source": [
        "**OPTIONALLY SPECIFY MIN NO OF PERIODS**"
      ]
    },
    {
      "cell_type": "code",
      "metadata": {
        "id": "-p1Qvo0KRTYZ",
        "colab_type": "code",
        "colab": {
          "base_uri": "https://localhost:8080/",
          "height": 397
        },
        "outputId": "e16c2a0d-9228-45a4-8314-e38e86ad6b5d"
      },
      "source": [
        "df['Close'].expanding(min_periods=1).mean().plot(figsize=(16,6))\n"
      ],
      "execution_count": null,
      "outputs": [
        {
          "output_type": "execute_result",
          "data": {
            "text/plain": [
              "<matplotlib.axes._subplots.AxesSubplot at 0x7f46e9189cc0>"
            ]
          },
          "metadata": {
            "tags": []
          },
          "execution_count": 91
        },
        {
          "output_type": "display_data",
          "data": {
            "image/png": "[encoded data removed]",
            "text/plain": [
              "<Figure size 1152x432 with 1 Axes>"
            ]
          },
          "metadata": {
            "tags": []
          }
        }
      ]
    },
    {
      "cell_type": "markdown",
      "metadata": {
        "id": "NhKzf-HISHw9",
        "colab_type": "text"
      },
      "source": [
        "**DATA PREPROCESSING**"
      ]
    },
    {
      "cell_type": "code",
      "metadata": {
        "id": "ejMnK7bmRyQx",
        "colab_type": "code",
        "colab": {}
      },
      "source": [
        "training_set=df['Close']\n",
        "training_set=pd.DataFrame(training_set)\n"
      ],
      "execution_count": null,
      "outputs": []
    },
    {
      "cell_type": "code",
      "metadata": {
        "id": "gar0e2IoSaI7",
        "colab_type": "code",
        "colab": {
          "base_uri": "https://localhost:8080/",
          "height": 153
        },
        "outputId": "346538ee-3241-4248-99d3-f981c44a9b2c"
      },
      "source": [
        "#Data Cleaning\n",
        "df.isna().any()"
      ],
      "execution_count": null,
      "outputs": [
        {
          "output_type": "execute_result",
          "data": {
            "text/plain": [
              "High                  False\n",
              "Low                   False\n",
              "Open                  False\n",
              "Close                 False\n",
              "Volume                False\n",
              "Adj Close             False\n",
              "Close: 30 day mean     True\n",
              "dtype: bool"
            ]
          },
          "metadata": {
            "tags": []
          },
          "execution_count": 93
        }
      ]
    },
    {
      "cell_type": "markdown",
      "metadata": {
        "id": "hlSTVstbSk5W",
        "colab_type": "text"
      },
      "source": [
        "**FEATURE SCALING** "
      ]
    },
    {
      "cell_type": "code",
      "metadata": {
        "id": "o0PZvYw5ShW8",
        "colab_type": "code",
        "colab": {}
      },
      "source": [
        "sc=MinMaxScaler(feature_range=(0,1))\n",
        "training_set_scaled=sc.fit_transform(training_set)\n"
      ],
      "execution_count": null,
      "outputs": []
    },
    {
      "cell_type": "code",
      "metadata": {
        "id": "NqcOG3La2g6V",
        "colab_type": "code",
        "colab": {
          "base_uri": "https://localhost:8080/",
          "height": 34
        },
        "outputId": "4f7518c7-eaa2-4fe7-8284-0ce56ffa3530"
      },
      "source": [
        "df.shape\n"
      ],
      "execution_count": null,
      "outputs": [
        {
          "output_type": "execute_result",
          "data": {
            "text/plain": [
              "(2092, 7)"
            ]
          },
          "metadata": {
            "tags": []
          },
          "execution_count": 95
        }
      ]
    },
    {
      "cell_type": "markdown",
      "metadata": {
        "id": "oY1EWqZYTPU-",
        "colab_type": "text"
      },
      "source": [
        "**CREATING A STRUCTURE WITH 60 TIME STEPS AND 1 OUTPUT**"
      ]
    },
    {
      "cell_type": "code",
      "metadata": {
        "id": "3RXpfU1_TLay",
        "colab_type": "code",
        "colab": {
          "base_uri": "https://localhost:8080/",
          "height": 34
        },
        "outputId": "2e188e55-a86e-4a04-c8c1-c1138d3c5847"
      },
      "source": [
        "x_train=[]\n",
        "y_train=[]\n",
        "for i in range(60,(df.shape[0])):\n",
        "  x_train.append(training_set_scaled[i-60:i,0])\n",
        "  y_train.append(training_set_scaled[i,0])\n",
        "\n",
        "x_train,y_train=np.array(x_train),np.array(y_train)\n",
        "\n",
        "#Reshaping\n",
        "x_train=np.reshape(x_train,(x_train.shape[0],x_train.shape[1],1))\n",
        "x_train.shape"
      ],
      "execution_count": null,
      "outputs": [
        {
          "output_type": "execute_result",
          "data": {
            "text/plain": [
              "(2032, 60, 1)"
            ]
          },
          "metadata": {
            "tags": []
          },
          "execution_count": 96
        }
      ]
    },
    {
      "cell_type": "markdown",
      "metadata": {
        "id": "ked7lbKEVM5k",
        "colab_type": "text"
      },
      "source": [
        "**BUILDING THE RNN MODEL**"
      ]
    },
    {
      "cell_type": "code",
      "metadata": {
        "id": "LNBVz7wuV76-",
        "colab_type": "code",
        "colab": {}
      },
      "source": [
        "#initialising the RNN\n",
        "regressor=Sequential()\n"
      ],
      "execution_count": null,
      "outputs": []
    },
    {
      "cell_type": "code",
      "metadata": {
        "id": "5tLspKCVgMQR",
        "colab_type": "code",
        "colab": {}
      },
      "source": [
        "regressor.add(LSTM(units=50,return_sequences=True,input_shape=(x_train.shape[1],1)))\n",
        "regressor.add(Dropout(0.2))\n",
        "\n",
        "regressor.add(LSTM(units=50,return_sequences=True))\n",
        "regressor.add(Dropout(0.2))\n",
        "\n",
        "regressor.add(LSTM(units=50))\n",
        "regressor.add(Dropout(0.2))\n",
        "\n",
        "\n",
        "\n",
        "#Adding output layer\n",
        "regressor.add(Dense(units=1))"
      ],
      "execution_count": null,
      "outputs": []
    },
    {
      "cell_type": "code",
      "metadata": {
        "id": "hZWswoPpgyQB",
        "colab_type": "code",
        "colab": {}
      },
      "source": [
        "regressor.compile(optimizer='adam',loss='mean_squared_error')"
      ],
      "execution_count": null,
      "outputs": []
    },
    {
      "cell_type": "code",
      "metadata": {
        "id": "qysAvCAGlCMr",
        "colab_type": "code",
        "colab": {
          "base_uri": "https://localhost:8080/",
          "height": 1000
        },
        "outputId": "623fab5c-9fef-4dbb-94c5-9ff5e5eef621"
      },
      "source": [
        "regressor.fit(x_train,y_train,epochs=100,batch_size=32)"
      ],
      "execution_count": null,
      "outputs": [
        {
          "output_type": "stream",
          "text": [
            "Epoch 1/100\n",
            "64/64 [==============================] - 5s 83ms/step - loss: 0.0123\n",
            "Epoch 2/100\n",
            "64/64 [==============================] - 6s 87ms/step - loss: 0.0035\n",
            "Epoch 3/100\n",
            "64/64 [==============================] - 6s 88ms/step - loss: 0.0029\n",
            "Epoch 4/100\n",
            "64/64 [==============================] - 6s 87ms/step - loss: 0.0028\n",
            "Epoch 5/100\n",
            "64/64 [==============================] - 6s 88ms/step - loss: 0.0027\n",
            "Epoch 6/100\n",
            "64/64 [==============================] - 6s 88ms/step - loss: 0.0023\n",
            "Epoch 7/100\n",
            "64/64 [==============================] - 6s 88ms/step - loss: 0.0024\n",
            "Epoch 8/100\n",
            "64/64 [==============================] - 6s 90ms/step - loss: 0.0024\n",
            "Epoch 9/100\n",
            "64/64 [==============================] - 6s 88ms/step - loss: 0.0022\n",
            "Epoch 10/100\n",
            "64/64 [==============================] - 6s 90ms/step - loss: 0.0022\n",
            "Epoch 11/100\n",
            "64/64 [==============================] - 6s 87ms/step - loss: 0.0020\n",
            "Epoch 12/100\n",
            "64/64 [==============================] - 6s 88ms/step - loss: 0.0020\n",
            "Epoch 13/100\n",
            "64/64 [==============================] - 6s 88ms/step - loss: 0.0019\n",
            "Epoch 14/100\n",
            "64/64 [==============================] - 6s 88ms/step - loss: 0.0021\n",
            "Epoch 15/100\n",
            "64/64 [==============================] - 6s 90ms/step - loss: 0.0018\n",
            "Epoch 16/100\n",
            "64/64 [==============================] - 6s 92ms/step - loss: 0.0018\n",
            "Epoch 17/100\n",
            "64/64 [==============================] - 6s 88ms/step - loss: 0.0015\n",
            "Epoch 18/100\n",
            "64/64 [==============================] - 6s 90ms/step - loss: 0.0017\n",
            "Epoch 19/100\n",
            "64/64 [==============================] - 6s 91ms/step - loss: 0.0016\n",
            "Epoch 20/100\n",
            "64/64 [==============================] - 6s 90ms/step - loss: 0.0015\n",
            "Epoch 21/100\n",
            "64/64 [==============================] - 6s 90ms/step - loss: 0.0016\n",
            "Epoch 22/100\n",
            "64/64 [==============================] - 6s 92ms/step - loss: 0.0016\n",
            "Epoch 23/100\n",
            "64/64 [==============================] - 6s 93ms/step - loss: 0.0015\n",
            "Epoch 24/100\n",
            "64/64 [==============================] - 6s 90ms/step - loss: 0.0013\n",
            "Epoch 25/100\n",
            "64/64 [==============================] - 6s 93ms/step - loss: 0.0014\n",
            "Epoch 26/100\n",
            "64/64 [==============================] - 6s 89ms/step - loss: 0.0014\n",
            "Epoch 27/100\n",
            "64/64 [==============================] - 6s 90ms/step - loss: 0.0014\n",
            "Epoch 28/100\n",
            "64/64 [==============================] - 6s 88ms/step - loss: 0.0013\n",
            "Epoch 29/100\n",
            "64/64 [==============================] - 6s 90ms/step - loss: 0.0013\n",
            "Epoch 30/100\n",
            "64/64 [==============================] - 6s 88ms/step - loss: 0.0014\n",
            "Epoch 31/100\n",
            "64/64 [==============================] - 6s 88ms/step - loss: 0.0013\n",
            "Epoch 32/100\n",
            "64/64 [==============================] - 6s 90ms/step - loss: 0.0012\n",
            "Epoch 33/100\n",
            "64/64 [==============================] - 6s 88ms/step - loss: 0.0012\n",
            "Epoch 34/100\n",
            "64/64 [==============================] - 6s 92ms/step - loss: 9.9214e-04\n",
            "Epoch 35/100\n",
            "64/64 [==============================] - 6s 87ms/step - loss: 0.0011\n",
            "Epoch 36/100\n",
            "64/64 [==============================] - 6s 91ms/step - loss: 0.0011\n",
            "Epoch 37/100\n",
            "64/64 [==============================] - 6s 91ms/step - loss: 0.0011\n",
            "Epoch 38/100\n",
            "64/64 [==============================] - 6s 91ms/step - loss: 0.0010\n",
            "Epoch 39/100\n",
            "64/64 [==============================] - 6s 93ms/step - loss: 0.0010\n",
            "Epoch 40/100\n",
            "64/64 [==============================] - 6s 93ms/step - loss: 9.2805e-04\n",
            "Epoch 41/100\n",
            "64/64 [==============================] - 6s 89ms/step - loss: 0.0010\n",
            "Epoch 42/100\n",
            "64/64 [==============================] - 6s 91ms/step - loss: 0.0010\n",
            "Epoch 43/100\n",
            "64/64 [==============================] - 6s 89ms/step - loss: 9.1863e-04\n",
            "Epoch 44/100\n",
            "64/64 [==============================] - 6s 90ms/step - loss: 0.0010\n",
            "Epoch 45/100\n",
            "64/64 [==============================] - 6s 90ms/step - loss: 9.4778e-04\n",
            "Epoch 46/100\n",
            "64/64 [==============================] - 6s 93ms/step - loss: 9.0491e-04\n",
            "Epoch 47/100\n",
            "64/64 [==============================] - 6s 92ms/step - loss: 9.3129e-04\n",
            "Epoch 48/100\n",
            "64/64 [==============================] - 6s 95ms/step - loss: 9.6806e-04\n",
            "Epoch 49/100\n",
            "64/64 [==============================] - 6s 91ms/step - loss: 8.9070e-04\n",
            "Epoch 50/100\n",
            "64/64 [==============================] - 6s 92ms/step - loss: 8.3228e-04\n",
            "Epoch 51/100\n",
            "64/64 [==============================] - 6s 91ms/step - loss: 9.3959e-04\n",
            "Epoch 52/100\n",
            "64/64 [==============================] - 6s 89ms/step - loss: 8.5187e-04\n",
            "Epoch 53/100\n",
            "64/64 [==============================] - 6s 89ms/step - loss: 8.3713e-04\n",
            "Epoch 54/100\n",
            "64/64 [==============================] - 6s 90ms/step - loss: 8.8004e-04\n",
            "Epoch 55/100\n",
            "64/64 [==============================] - 6s 89ms/step - loss: 8.1616e-04\n",
            "Epoch 56/100\n",
            "64/64 [==============================] - 6s 91ms/step - loss: 7.2607e-04\n",
            "Epoch 57/100\n",
            "64/64 [==============================] - 6s 90ms/step - loss: 8.2191e-04\n",
            "Epoch 58/100\n",
            "64/64 [==============================] - 6s 88ms/step - loss: 8.0252e-04\n",
            "Epoch 59/100\n",
            "64/64 [==============================] - 6s 88ms/step - loss: 7.8394e-04\n",
            "Epoch 60/100\n",
            "64/64 [==============================] - 6s 93ms/step - loss: 7.7451e-04\n",
            "Epoch 61/100\n",
            "64/64 [==============================] - 6s 91ms/step - loss: 7.8026e-04\n",
            "Epoch 62/100\n",
            "64/64 [==============================] - 6s 90ms/step - loss: 7.8557e-04\n",
            "Epoch 63/100\n",
            "64/64 [==============================] - 6s 91ms/step - loss: 7.7697e-04\n",
            "Epoch 64/100\n",
            "64/64 [==============================] - 6s 92ms/step - loss: 7.7088e-04\n",
            "Epoch 65/100\n",
            "64/64 [==============================] - 6s 90ms/step - loss: 7.4923e-04\n",
            "Epoch 66/100\n",
            "64/64 [==============================] - 6s 91ms/step - loss: 7.4429e-04\n",
            "Epoch 67/100\n",
            "64/64 [==============================] - 6s 90ms/step - loss: 8.2040e-04\n",
            "Epoch 68/100\n",
            "64/64 [==============================] - 6s 93ms/step - loss: 6.9657e-04\n",
            "Epoch 69/100\n",
            "64/64 [==============================] - 8s 126ms/step - loss: 7.5504e-04\n",
            "Epoch 70/100\n",
            "64/64 [==============================] - 7s 108ms/step - loss: 7.0119e-04\n",
            "Epoch 71/100\n",
            "64/64 [==============================] - 6s 93ms/step - loss: 7.2554e-04\n",
            "Epoch 72/100\n",
            "64/64 [==============================] - 6s 91ms/step - loss: 6.9992e-04\n",
            "Epoch 73/100\n",
            "64/64 [==============================] - 6s 91ms/step - loss: 7.6730e-04\n",
            "Epoch 74/100\n",
            "64/64 [==============================] - 6s 88ms/step - loss: 7.5068e-04\n",
            "Epoch 75/100\n",
            "64/64 [==============================] - 6s 90ms/step - loss: 7.0518e-04\n",
            "Epoch 76/100\n",
            "64/64 [==============================] - 6s 90ms/step - loss: 6.6463e-04\n",
            "Epoch 77/100\n",
            "64/64 [==============================] - 6s 91ms/step - loss: 6.6683e-04\n",
            "Epoch 78/100\n",
            "64/64 [==============================] - 6s 89ms/step - loss: 7.1351e-04\n",
            "Epoch 79/100\n",
            "64/64 [==============================] - 6s 91ms/step - loss: 6.5311e-04\n",
            "Epoch 80/100\n",
            "64/64 [==============================] - 6s 89ms/step - loss: 7.2006e-04\n",
            "Epoch 81/100\n",
            "64/64 [==============================] - 6s 89ms/step - loss: 6.9600e-04\n",
            "Epoch 82/100\n",
            "64/64 [==============================] - 6s 91ms/step - loss: 6.5757e-04\n",
            "Epoch 83/100\n",
            "64/64 [==============================] - 6s 90ms/step - loss: 7.0328e-04\n",
            "Epoch 84/100\n",
            "64/64 [==============================] - 6s 89ms/step - loss: 7.1534e-04\n",
            "Epoch 85/100\n",
            "64/64 [==============================] - 6s 92ms/step - loss: 6.8825e-04\n",
            "Epoch 86/100\n",
            "64/64 [==============================] - 6s 92ms/step - loss: 6.6435e-04\n",
            "Epoch 87/100\n",
            "64/64 [==============================] - 6s 89ms/step - loss: 6.4705e-04\n",
            "Epoch 88/100\n",
            "64/64 [==============================] - 6s 89ms/step - loss: 6.8048e-04\n",
            "Epoch 89/100\n",
            "64/64 [==============================] - 6s 89ms/step - loss: 6.8038e-04\n",
            "Epoch 90/100\n",
            "64/64 [==============================] - 6s 92ms/step - loss: 6.1257e-04\n",
            "Epoch 91/100\n",
            "64/64 [==============================] - 6s 95ms/step - loss: 6.8474e-04\n",
            "Epoch 92/100\n",
            "64/64 [==============================] - 6s 96ms/step - loss: 6.2613e-04\n",
            "Epoch 93/100\n",
            "64/64 [==============================] - 6s 88ms/step - loss: 6.3638e-04\n",
            "Epoch 94/100\n",
            "64/64 [==============================] - 6s 92ms/step - loss: 6.7639e-04\n",
            "Epoch 95/100\n",
            "64/64 [==============================] - 6s 92ms/step - loss: 6.0867e-04\n",
            "Epoch 96/100\n",
            "64/64 [==============================] - 6s 90ms/step - loss: 7.2420e-04\n",
            "Epoch 97/100\n",
            "64/64 [==============================] - 6s 91ms/step - loss: 6.9251e-04\n",
            "Epoch 98/100\n",
            "64/64 [==============================] - 6s 90ms/step - loss: 5.5940e-04\n",
            "Epoch 99/100\n",
            "64/64 [==============================] - 6s 89ms/step - loss: 6.7326e-04\n",
            "Epoch 100/100\n",
            "64/64 [==============================] - 6s 90ms/step - loss: 6.4619e-04\n"
          ],
          "name": "stdout"
        },
        {
          "output_type": "execute_result",
          "data": {
            "text/plain": [
              "<tensorflow.python.keras.callbacks.History at 0x7f46e8a02ef0>"
            ]
          },
          "metadata": {
            "tags": []
          },
          "execution_count": 100
        }
      ]
    },
    {
      "cell_type": "markdown",
      "metadata": {
        "id": "P0GqEWBSmDtX",
        "colab_type": "text"
      },
      "source": [
        "**MAKING PREDICTIONS AN D VISUALISATION**"
      ]
    },
    {
      "cell_type": "code",
      "metadata": {
        "id": "hXDxIPnUtQhL",
        "colab_type": "code",
        "colab": {
          "base_uri": "https://localhost:8080/",
          "height": 1000
        },
        "outputId": "43da50c4-52ea-4feb-f86e-0640a4434fed"
      },
      "source": [
        "start = dt.datetime(2020,7,2)\n",
        "end = dt.datetime(2020,8,17)\n",
        "df_test=web.DataReader('INFY.NS',data_source='yahoo',start=start,end=end)\n",
        "\n",
        "real_stock_price=df_test.iloc[:,1:2].values\n",
        "df_test"
      ],
      "execution_count": null,
      "outputs": [
        {
          "output_type": "execute_result",
          "data": {
            "text/html": [
              "<div>\n",
              "<style scoped>\n",
              "    .dataframe tbody tr th:only-of-type {\n",
              "        vertical-align: middle;\n",
              "    }\n",
              "\n",
              "    .dataframe tbody tr th {\n",
              "        vertical-align: top;\n",
              "    }\n",
              "\n",
              "    .dataframe thead th {\n",
              "        text-align: right;\n",
              "    }\n",
              "</style>\n",
              "<table border=\"1\" class=\"dataframe\">\n",
              "  <thead>\n",
              "    <tr style=\"text-align: right;\">\n",
              "      <th></th>\n",
              "      <th>High</th>\n",
              "      <th>Low</th>\n",
              "      <th>Open</th>\n",
              "      <th>Close</th>\n",
              "      <th>Volume</th>\n",
              "      <th>Adj Close</th>\n",
              "    </tr>\n",
              "    <tr>\n",
              "      <th>Date</th>\n",
              "      <th></th>\n",
              "      <th></th>\n",
              "      <th></th>\n",
              "      <th></th>\n",
              "      <th></th>\n",
              "      <th></th>\n",
              "    </tr>\n",
              "  </thead>\n",
              "  <tbody>\n",
              "    <tr>\n",
              "      <th>2020-07-02</th>\n",
              "      <td>765.450012</td>\n",
              "      <td>735.400024</td>\n",
              "      <td>737.349976</td>\n",
              "      <td>756.599976</td>\n",
              "      <td>17263756</td>\n",
              "      <td>756.599976</td>\n",
              "    </tr>\n",
              "    <tr>\n",
              "      <th>2020-07-03</th>\n",
              "      <td>764.000000</td>\n",
              "      <td>752.500000</td>\n",
              "      <td>755.000000</td>\n",
              "      <td>762.700012</td>\n",
              "      <td>7796572</td>\n",
              "      <td>762.700012</td>\n",
              "    </tr>\n",
              "    <tr>\n",
              "      <th>2020-07-06</th>\n",
              "      <td>775.000000</td>\n",
              "      <td>761.500000</td>\n",
              "      <td>765.200012</td>\n",
              "      <td>764.000000</td>\n",
              "      <td>8810958</td>\n",
              "      <td>764.000000</td>\n",
              "    </tr>\n",
              "    <tr>\n",
              "      <th>2020-07-07</th>\n",
              "      <td>796.950012</td>\n",
              "      <td>765.549988</td>\n",
              "      <td>769.400024</td>\n",
              "      <td>794.150024</td>\n",
              "      <td>19362533</td>\n",
              "      <td>794.150024</td>\n",
              "    </tr>\n",
              "    <tr>\n",
              "      <th>2020-07-08</th>\n",
              "      <td>784.900024</td>\n",
              "      <td>772.200012</td>\n",
              "      <td>784.900024</td>\n",
              "      <td>774.700012</td>\n",
              "      <td>8476642</td>\n",
              "      <td>774.700012</td>\n",
              "    </tr>\n",
              "    <tr>\n",
              "      <th>2020-07-09</th>\n",
              "      <td>790.000000</td>\n",
              "      <td>775.000000</td>\n",
              "      <td>780.000000</td>\n",
              "      <td>781.700012</td>\n",
              "      <td>6854166</td>\n",
              "      <td>781.700012</td>\n",
              "    </tr>\n",
              "    <tr>\n",
              "      <th>2020-07-10</th>\n",
              "      <td>789.900024</td>\n",
              "      <td>773.500000</td>\n",
              "      <td>773.500000</td>\n",
              "      <td>781.849976</td>\n",
              "      <td>5206452</td>\n",
              "      <td>781.849976</td>\n",
              "    </tr>\n",
              "    <tr>\n",
              "      <th>2020-07-13</th>\n",
              "      <td>805.349976</td>\n",
              "      <td>786.049988</td>\n",
              "      <td>788.000000</td>\n",
              "      <td>797.049988</td>\n",
              "      <td>10804688</td>\n",
              "      <td>797.049988</td>\n",
              "    </tr>\n",
              "    <tr>\n",
              "      <th>2020-07-14</th>\n",
              "      <td>806.400024</td>\n",
              "      <td>781.349976</td>\n",
              "      <td>792.950012</td>\n",
              "      <td>783.250000</td>\n",
              "      <td>8961822</td>\n",
              "      <td>783.250000</td>\n",
              "    </tr>\n",
              "    <tr>\n",
              "      <th>2020-07-15</th>\n",
              "      <td>848.450012</td>\n",
              "      <td>794.799988</td>\n",
              "      <td>799.000000</td>\n",
              "      <td>830.950012</td>\n",
              "      <td>30060599</td>\n",
              "      <td>830.950012</td>\n",
              "    </tr>\n",
              "    <tr>\n",
              "      <th>2020-07-16</th>\n",
              "      <td>955.500000</td>\n",
              "      <td>894.250000</td>\n",
              "      <td>900.099976</td>\n",
              "      <td>911.000000</td>\n",
              "      <td>90432109</td>\n",
              "      <td>911.000000</td>\n",
              "    </tr>\n",
              "    <tr>\n",
              "      <th>2020-07-17</th>\n",
              "      <td>919.900024</td>\n",
              "      <td>892.150024</td>\n",
              "      <td>911.000000</td>\n",
              "      <td>903.150024</td>\n",
              "      <td>31682878</td>\n",
              "      <td>903.150024</td>\n",
              "    </tr>\n",
              "    <tr>\n",
              "      <th>2020-07-20</th>\n",
              "      <td>945.000000</td>\n",
              "      <td>906.750000</td>\n",
              "      <td>908.500000</td>\n",
              "      <td>934.299988</td>\n",
              "      <td>18421053</td>\n",
              "      <td>934.299988</td>\n",
              "    </tr>\n",
              "    <tr>\n",
              "      <th>2020-07-21</th>\n",
              "      <td>949.700012</td>\n",
              "      <td>929.200012</td>\n",
              "      <td>945.000000</td>\n",
              "      <td>936.750000</td>\n",
              "      <td>12877784</td>\n",
              "      <td>936.750000</td>\n",
              "    </tr>\n",
              "    <tr>\n",
              "      <th>2020-07-22</th>\n",
              "      <td>939.000000</td>\n",
              "      <td>910.000000</td>\n",
              "      <td>938.950012</td>\n",
              "      <td>917.900024</td>\n",
              "      <td>14354201</td>\n",
              "      <td>917.900024</td>\n",
              "    </tr>\n",
              "    <tr>\n",
              "      <th>2020-07-23</th>\n",
              "      <td>915.799988</td>\n",
              "      <td>900.650024</td>\n",
              "      <td>915.650024</td>\n",
              "      <td>907.950012</td>\n",
              "      <td>13051307</td>\n",
              "      <td>907.950012</td>\n",
              "    </tr>\n",
              "    <tr>\n",
              "      <th>2020-07-24</th>\n",
              "      <td>925.750000</td>\n",
              "      <td>903.250000</td>\n",
              "      <td>903.250000</td>\n",
              "      <td>922.849976</td>\n",
              "      <td>18209580</td>\n",
              "      <td>922.849976</td>\n",
              "    </tr>\n",
              "    <tr>\n",
              "      <th>2020-07-27</th>\n",
              "      <td>952.799988</td>\n",
              "      <td>918.650024</td>\n",
              "      <td>921.549988</td>\n",
              "      <td>948.450012</td>\n",
              "      <td>16827870</td>\n",
              "      <td>948.450012</td>\n",
              "    </tr>\n",
              "    <tr>\n",
              "      <th>2020-07-28</th>\n",
              "      <td>967.549988</td>\n",
              "      <td>941.200012</td>\n",
              "      <td>946.000000</td>\n",
              "      <td>962.849976</td>\n",
              "      <td>15818463</td>\n",
              "      <td>962.849976</td>\n",
              "    </tr>\n",
              "    <tr>\n",
              "      <th>2020-07-29</th>\n",
              "      <td>960.000000</td>\n",
              "      <td>943.599976</td>\n",
              "      <td>953.250000</td>\n",
              "      <td>954.150024</td>\n",
              "      <td>11152710</td>\n",
              "      <td>954.150024</td>\n",
              "    </tr>\n",
              "    <tr>\n",
              "      <th>2020-07-30</th>\n",
              "      <td>972.650024</td>\n",
              "      <td>958.750000</td>\n",
              "      <td>962.000000</td>\n",
              "      <td>961.450012</td>\n",
              "      <td>12492320</td>\n",
              "      <td>961.450012</td>\n",
              "    </tr>\n",
              "    <tr>\n",
              "      <th>2020-07-31</th>\n",
              "      <td>986.450012</td>\n",
              "      <td>953.299988</td>\n",
              "      <td>969.250000</td>\n",
              "      <td>966.000000</td>\n",
              "      <td>12704346</td>\n",
              "      <td>966.000000</td>\n",
              "    </tr>\n",
              "    <tr>\n",
              "      <th>2020-08-03</th>\n",
              "      <td>965.400024</td>\n",
              "      <td>947.450012</td>\n",
              "      <td>960.000000</td>\n",
              "      <td>956.900024</td>\n",
              "      <td>8479792</td>\n",
              "      <td>956.900024</td>\n",
              "    </tr>\n",
              "    <tr>\n",
              "      <th>2020-08-04</th>\n",
              "      <td>970.700012</td>\n",
              "      <td>940.549988</td>\n",
              "      <td>960.450012</td>\n",
              "      <td>949.849976</td>\n",
              "      <td>11133170</td>\n",
              "      <td>949.849976</td>\n",
              "    </tr>\n",
              "    <tr>\n",
              "      <th>2020-08-05</th>\n",
              "      <td>960.950012</td>\n",
              "      <td>938.299988</td>\n",
              "      <td>952.000000</td>\n",
              "      <td>944.700012</td>\n",
              "      <td>9614176</td>\n",
              "      <td>944.700012</td>\n",
              "    </tr>\n",
              "    <tr>\n",
              "      <th>2020-08-06</th>\n",
              "      <td>974.400024</td>\n",
              "      <td>942.500000</td>\n",
              "      <td>953.500000</td>\n",
              "      <td>970.849976</td>\n",
              "      <td>10976491</td>\n",
              "      <td>970.849976</td>\n",
              "    </tr>\n",
              "    <tr>\n",
              "      <th>2020-08-07</th>\n",
              "      <td>969.450012</td>\n",
              "      <td>949.000000</td>\n",
              "      <td>969.450012</td>\n",
              "      <td>950.900024</td>\n",
              "      <td>8010948</td>\n",
              "      <td>950.900024</td>\n",
              "    </tr>\n",
              "    <tr>\n",
              "      <th>2020-08-10</th>\n",
              "      <td>956.799988</td>\n",
              "      <td>945.299988</td>\n",
              "      <td>948.900024</td>\n",
              "      <td>951.349976</td>\n",
              "      <td>5716319</td>\n",
              "      <td>951.349976</td>\n",
              "    </tr>\n",
              "    <tr>\n",
              "      <th>2020-08-11</th>\n",
              "      <td>962.000000</td>\n",
              "      <td>946.099976</td>\n",
              "      <td>949.900024</td>\n",
              "      <td>948.450012</td>\n",
              "      <td>6802442</td>\n",
              "      <td>948.450012</td>\n",
              "    </tr>\n",
              "    <tr>\n",
              "      <th>2020-08-12</th>\n",
              "      <td>958.799988</td>\n",
              "      <td>942.200012</td>\n",
              "      <td>948.000000</td>\n",
              "      <td>954.950012</td>\n",
              "      <td>6908726</td>\n",
              "      <td>954.950012</td>\n",
              "    </tr>\n",
              "    <tr>\n",
              "      <th>2020-08-13</th>\n",
              "      <td>968.500000</td>\n",
              "      <td>948.250000</td>\n",
              "      <td>954.799988</td>\n",
              "      <td>951.200012</td>\n",
              "      <td>5097703</td>\n",
              "      <td>951.200012</td>\n",
              "    </tr>\n",
              "    <tr>\n",
              "      <th>2020-08-14</th>\n",
              "      <td>963.000000</td>\n",
              "      <td>952.049988</td>\n",
              "      <td>955.849976</td>\n",
              "      <td>953.599976</td>\n",
              "      <td>4663873</td>\n",
              "      <td>953.599976</td>\n",
              "    </tr>\n",
              "    <tr>\n",
              "      <th>2020-08-17</th>\n",
              "      <td>972.450012</td>\n",
              "      <td>954.099976</td>\n",
              "      <td>954.099976</td>\n",
              "      <td>960.150024</td>\n",
              "      <td>7326066</td>\n",
              "      <td>960.150024</td>\n",
              "    </tr>\n",
              "  </tbody>\n",
              "</table>\n",
              "</div>"
            ],
            "text/plain": [
              "                  High         Low  ...    Volume   Adj Close\n",
              "Date                                ...                      \n",
              "2020-07-02  765.450012  735.400024  ...  17263756  756.599976\n",
              "2020-07-03  764.000000  752.500000  ...   7796572  762.700012\n",
              "2020-07-06  775.000000  761.500000  ...   8810958  764.000000\n",
              "2020-07-07  796.950012  765.549988  ...  19362533  794.150024\n",
              "2020-07-08  784.900024  772.200012  ...   8476642  774.700012\n",
              "2020-07-09  790.000000  775.000000  ...   6854166  781.700012\n",
              "2020-07-10  789.900024  773.500000  ...   5206452  781.849976\n",
              "2020-07-13  805.349976  786.049988  ...  10804688  797.049988\n",
              "2020-07-14  806.400024  781.349976  ...   8961822  783.250000\n",
              "2020-07-15  848.450012  794.799988  ...  30060599  830.950012\n",
              "2020-07-16  955.500000  894.250000  ...  90432109  911.000000\n",
              "2020-07-17  919.900024  892.150024  ...  31682878  903.150024\n",
              "2020-07-20  945.000000  906.750000  ...  18421053  934.299988\n",
              "2020-07-21  949.700012  929.200012  ...  12877784  936.750000\n",
              "2020-07-22  939.000000  910.000000  ...  14354201  917.900024\n",
              "2020-07-23  915.799988  900.650024  ...  13051307  907.950012\n",
              "2020-07-24  925.750000  903.250000  ...  18209580  922.849976\n",
              "2020-07-27  952.799988  918.650024  ...  16827870  948.450012\n",
              "2020-07-28  967.549988  941.200012  ...  15818463  962.849976\n",
              "2020-07-29  960.000000  943.599976  ...  11152710  954.150024\n",
              "2020-07-30  972.650024  958.750000  ...  12492320  961.450012\n",
              "2020-07-31  986.450012  953.299988  ...  12704346  966.000000\n",
              "2020-08-03  965.400024  947.450012  ...   8479792  956.900024\n",
              "2020-08-04  970.700012  940.549988  ...  11133170  949.849976\n",
              "2020-08-05  960.950012  938.299988  ...   9614176  944.700012\n",
              "2020-08-06  974.400024  942.500000  ...  10976491  970.849976\n",
              "2020-08-07  969.450012  949.000000  ...   8010948  950.900024\n",
              "2020-08-10  956.799988  945.299988  ...   5716319  951.349976\n",
              "2020-08-11  962.000000  946.099976  ...   6802442  948.450012\n",
              "2020-08-12  958.799988  942.200012  ...   6908726  954.950012\n",
              "2020-08-13  968.500000  948.250000  ...   5097703  951.200012\n",
              "2020-08-14  963.000000  952.049988  ...   4663873  953.599976\n",
              "2020-08-17  972.450012  954.099976  ...   7326066  960.150024\n",
              "\n",
              "[33 rows x 6 columns]"
            ]
          },
          "metadata": {
            "tags": []
          },
          "execution_count": 121
        }
      ]
    },
    {
      "cell_type": "code",
      "metadata": {
        "id": "eH-zUbdquRXy",
        "colab_type": "code",
        "colab": {
          "base_uri": "https://localhost:8080/",
          "height": 238
        },
        "outputId": "3002b553-db3c-4937-c935-9e0e97b06ce9"
      },
      "source": [
        "df_test.info()"
      ],
      "execution_count": null,
      "outputs": [
        {
          "output_type": "stream",
          "text": [
            "<class 'pandas.core.frame.DataFrame'>\n",
            "DatetimeIndex: 33 entries, 2020-07-02 to 2020-08-17\n",
            "Data columns (total 6 columns):\n",
            " #   Column     Non-Null Count  Dtype  \n",
            "---  ------     --------------  -----  \n",
            " 0   High       33 non-null     float64\n",
            " 1   Low        33 non-null     float64\n",
            " 2   Open       33 non-null     float64\n",
            " 3   Close      33 non-null     float64\n",
            " 4   Volume     33 non-null     int64  \n",
            " 5   Adj Close  33 non-null     float64\n",
            "dtypes: float64(5), int64(1)\n",
            "memory usage: 1.8 KB\n"
          ],
          "name": "stdout"
        }
      ]
    },
    {
      "cell_type": "code",
      "metadata": {
        "id": "Rf5x211cuYYf",
        "colab_type": "code",
        "colab": {}
      },
      "source": [
        "df_test['Volume']=df_test['Volume'].astype(float)\n",
        "#if any column is not in float"
      ],
      "execution_count": null,
      "outputs": []
    },
    {
      "cell_type": "code",
      "metadata": {
        "id": "DsnTSDxWuxJ7",
        "colab_type": "code",
        "colab": {
          "base_uri": "https://localhost:8080/",
          "height": 153
        },
        "outputId": "42b75c35-c3e4-4362-f52a-11e7d2549b5c"
      },
      "source": [
        "test_set=df_test['Close']\n",
        "test_set=pd.DataFrame(test_set)\n",
        "test_set.info()"
      ],
      "execution_count": null,
      "outputs": [
        {
          "output_type": "stream",
          "text": [
            "<class 'pandas.core.frame.DataFrame'>\n",
            "DatetimeIndex: 33 entries, 2020-07-02 to 2020-08-17\n",
            "Data columns (total 1 columns):\n",
            " #   Column  Non-Null Count  Dtype  \n",
            "---  ------  --------------  -----  \n",
            " 0   Close   33 non-null     float64\n",
            "dtypes: float64(1)\n",
            "memory usage: 528.0 bytes\n"
          ],
          "name": "stdout"
        }
      ]
    },
    {
      "cell_type": "code",
      "metadata": {
        "id": "_4aT1YeO4_Nj",
        "colab_type": "code",
        "colab": {
          "base_uri": "https://localhost:8080/",
          "height": 34
        },
        "outputId": "deffbc2a-137d-4f63-9224-a04fc44e15d9"
      },
      "source": [
        "df_test.shape"
      ],
      "execution_count": null,
      "outputs": [
        {
          "output_type": "execute_result",
          "data": {
            "text/plain": [
              "(33, 6)"
            ]
          },
          "metadata": {
            "tags": []
          },
          "execution_count": 125
        }
      ]
    },
    {
      "cell_type": "code",
      "metadata": {
        "id": "1U5-ZYiBvPLC",
        "colab_type": "code",
        "colab": {}
      },
      "source": [
        "df_total=pd.concat((df['Close'],df_test['Close']),axis=0)\n",
        "inputs=df_total[len(df_total)-len(df_test)-60:].values\n",
        "inputs=inputs.reshape(-1,1)\n",
        "inputs=sc.transform(inputs)\n",
        "x_test=[]\n",
        "for i in range(60,(df_test.shape[0])+60):\n",
        "  x_test.append(inputs[i-60:i,0])\n",
        "\n",
        "x_test=np.array(x_test)\n",
        "x_test=np.reshape(x_test,(x_test.shape[0],x_test.shape[1],1))\n"
      ],
      "execution_count": null,
      "outputs": []
    },
    {
      "cell_type": "code",
      "metadata": {
        "id": "dYBBe37Lwdj_",
        "colab_type": "code",
        "colab": {
          "base_uri": "https://localhost:8080/",
          "height": 1000
        },
        "outputId": "fee2aa27-2678-4e9b-f0d4-e5ef46d49eed"
      },
      "source": [
        "predicted_stock_price=regressor.predict(x_test)\n",
        "predicted_stock_price=sc.inverse_transform(predicted_stock_price)   #unscale values so that prediction values match y_test dataset\n",
        "predicted_stock_price=pd.DataFrame(predicted_stock_price)\n",
        "predicted_stock_price"
      ],
      "execution_count": null,
      "outputs": [
        {
          "output_type": "execute_result",
          "data": {
            "text/html": [
              "<div>\n",
              "<style scoped>\n",
              "    .dataframe tbody tr th:only-of-type {\n",
              "        vertical-align: middle;\n",
              "    }\n",
              "\n",
              "    .dataframe tbody tr th {\n",
              "        vertical-align: top;\n",
              "    }\n",
              "\n",
              "    .dataframe thead th {\n",
              "        text-align: right;\n",
              "    }\n",
              "</style>\n",
              "<table border=\"1\" class=\"dataframe\">\n",
              "  <thead>\n",
              "    <tr style=\"text-align: right;\">\n",
              "      <th></th>\n",
              "      <th>0</th>\n",
              "    </tr>\n",
              "  </thead>\n",
              "  <tbody>\n",
              "    <tr>\n",
              "      <th>0</th>\n",
              "      <td>942.723999</td>\n",
              "    </tr>\n",
              "    <tr>\n",
              "      <th>1</th>\n",
              "      <td>779.793762</td>\n",
              "    </tr>\n",
              "    <tr>\n",
              "      <th>2</th>\n",
              "      <td>753.386169</td>\n",
              "    </tr>\n",
              "    <tr>\n",
              "      <th>3</th>\n",
              "      <td>757.520203</td>\n",
              "    </tr>\n",
              "    <tr>\n",
              "      <th>4</th>\n",
              "      <td>784.119019</td>\n",
              "    </tr>\n",
              "    <tr>\n",
              "      <th>5</th>\n",
              "      <td>774.262756</td>\n",
              "    </tr>\n",
              "    <tr>\n",
              "      <th>6</th>\n",
              "      <td>774.314636</td>\n",
              "    </tr>\n",
              "    <tr>\n",
              "      <th>7</th>\n",
              "      <td>774.446472</td>\n",
              "    </tr>\n",
              "    <tr>\n",
              "      <th>8</th>\n",
              "      <td>786.373352</td>\n",
              "    </tr>\n",
              "    <tr>\n",
              "      <th>9</th>\n",
              "      <td>778.603333</td>\n",
              "    </tr>\n",
              "    <tr>\n",
              "      <th>10</th>\n",
              "      <td>813.548889</td>\n",
              "    </tr>\n",
              "    <tr>\n",
              "      <th>11</th>\n",
              "      <td>887.637268</td>\n",
              "    </tr>\n",
              "    <tr>\n",
              "      <th>12</th>\n",
              "      <td>890.397339</td>\n",
              "    </tr>\n",
              "    <tr>\n",
              "      <th>13</th>\n",
              "      <td>916.269897</td>\n",
              "    </tr>\n",
              "    <tr>\n",
              "      <th>14</th>\n",
              "      <td>921.327087</td>\n",
              "    </tr>\n",
              "    <tr>\n",
              "      <th>15</th>\n",
              "      <td>906.202942</td>\n",
              "    </tr>\n",
              "    <tr>\n",
              "      <th>16</th>\n",
              "      <td>896.788147</td>\n",
              "    </tr>\n",
              "    <tr>\n",
              "      <th>17</th>\n",
              "      <td>909.628296</td>\n",
              "    </tr>\n",
              "    <tr>\n",
              "      <th>18</th>\n",
              "      <td>933.597168</td>\n",
              "    </tr>\n",
              "    <tr>\n",
              "      <th>19</th>\n",
              "      <td>947.507263</td>\n",
              "    </tr>\n",
              "    <tr>\n",
              "      <th>20</th>\n",
              "      <td>939.701721</td>\n",
              "    </tr>\n",
              "    <tr>\n",
              "      <th>21</th>\n",
              "      <td>946.085815</td>\n",
              "    </tr>\n",
              "    <tr>\n",
              "      <th>22</th>\n",
              "      <td>951.009827</td>\n",
              "    </tr>\n",
              "    <tr>\n",
              "      <th>23</th>\n",
              "      <td>943.175171</td>\n",
              "    </tr>\n",
              "    <tr>\n",
              "      <th>24</th>\n",
              "      <td>936.464233</td>\n",
              "    </tr>\n",
              "    <tr>\n",
              "      <th>25</th>\n",
              "      <td>931.705261</td>\n",
              "    </tr>\n",
              "    <tr>\n",
              "      <th>26</th>\n",
              "      <td>955.339966</td>\n",
              "    </tr>\n",
              "    <tr>\n",
              "      <th>27</th>\n",
              "      <td>938.061523</td>\n",
              "    </tr>\n",
              "    <tr>\n",
              "      <th>28</th>\n",
              "      <td>937.473938</td>\n",
              "    </tr>\n",
              "    <tr>\n",
              "      <th>29</th>\n",
              "      <td>935.019775</td>\n",
              "    </tr>\n",
              "    <tr>\n",
              "      <th>30</th>\n",
              "      <td>941.141418</td>\n",
              "    </tr>\n",
              "    <tr>\n",
              "      <th>31</th>\n",
              "      <td>937.933044</td>\n",
              "    </tr>\n",
              "    <tr>\n",
              "      <th>32</th>\n",
              "      <td>939.893677</td>\n",
              "    </tr>\n",
              "  </tbody>\n",
              "</table>\n",
              "</div>"
            ],
            "text/plain": [
              "             0\n",
              "0   942.723999\n",
              "1   779.793762\n",
              "2   753.386169\n",
              "3   757.520203\n",
              "4   784.119019\n",
              "5   774.262756\n",
              "6   774.314636\n",
              "7   774.446472\n",
              "8   786.373352\n",
              "9   778.603333\n",
              "10  813.548889\n",
              "11  887.637268\n",
              "12  890.397339\n",
              "13  916.269897\n",
              "14  921.327087\n",
              "15  906.202942\n",
              "16  896.788147\n",
              "17  909.628296\n",
              "18  933.597168\n",
              "19  947.507263\n",
              "20  939.701721\n",
              "21  946.085815\n",
              "22  951.009827\n",
              "23  943.175171\n",
              "24  936.464233\n",
              "25  931.705261\n",
              "26  955.339966\n",
              "27  938.061523\n",
              "28  937.473938\n",
              "29  935.019775\n",
              "30  941.141418\n",
              "31  937.933044\n",
              "32  939.893677"
            ]
          },
          "metadata": {
            "tags": []
          },
          "execution_count": 134
        }
      ]
    },
    {
      "cell_type": "code",
      "metadata": {
        "id": "xBQcqAJr1BKJ",
        "colab_type": "code",
        "colab": {
          "base_uri": "https://localhost:8080/",
          "height": 558
        },
        "outputId": "dc9e059a-6b89-4e42-f7d9-b32fa0d8b08d"
      },
      "source": [
        "plt.figure(figsize=(16,8))\n",
        "plt.title('Regressor')\n",
        "plt.xlabel('DAYS',fontsize=18)\n",
        "plt.ylabel('Close price INR', fontsize=18)\n",
        "plt.plot(real_stock_price,color='red',label='Real Infy stock price')\n",
        "plt.plot(predicted_stock_price,color='blue',label='Predicted Infy stock price')\n",
        "\n",
        "plt.legend()\n",
        "plt.show()"
      ],
      "execution_count": null,
      "outputs": [
        {
          "output_type": "display_data",
          "data": {
            "image/png": "[encoded data removed]",
            "text/plain": [
              "<Figure size 1152x576 with 1 Axes>"
            ]
          },
          "metadata": {
            "tags": []
          }
        }
      ]
    },
    {
      "cell_type": "code",
      "metadata": {
        "id": "R6WZZo6w1BxR",
        "colab_type": "code",
        "colab": {
          "base_uri": "https://localhost:8080/",
          "height": 51
        },
        "outputId": "0c4eb65a-f633-4329-e078-69ec465f157b"
      },
      "source": [
        "#get the root mean squared error to evaluate model lower the value better the fit\n",
        "rmse=np.sqrt(np.mean(predicted_stock_price-real_stock_price)**2)\n",
        "rmse"
      ],
      "execution_count": null,
      "outputs": [
        {
          "output_type": "execute_result",
          "data": {
            "text/plain": [
              "0    0.183437\n",
              "dtype: float64"
            ]
          },
          "metadata": {
            "tags": []
          },
          "execution_count": 136
        }
      ]
    },
    {
      "cell_type": "code",
      "metadata": {
        "id": "khPUH9zGiKs4",
        "colab_type": "code",
        "colab": {}
      },
      "source": [
        ""
      ],
      "execution_count": null,
      "outputs": []
    }
  ]
}